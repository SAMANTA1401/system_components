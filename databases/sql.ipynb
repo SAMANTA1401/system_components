{
 "cells": [
  {
   "cell_type": "markdown",
   "id": "e7e40955",
   "metadata": {},
   "source": [
    "SQL databases store data in tables with a strict predened schema and follow the\n",
    "ACID properties.\n",
    "\n",
    "Atomicity - A transaction is all-or-nothing (it either completes fully or not at\n",
    "\n",
    "Consistency – Data always remains valid and follows dened rules.\n",
    "\n",
    "Isolation – Transactions don’t interfere with each other.\n",
    "\n",
    "\n",
    "Durability – Once data is saved, it won’t be lost, even if the system crashes.\n"
   ]
  },
  {
   "cell_type": "code",
   "execution_count": 1,
   "id": "68a6f20b",
   "metadata": {},
   "outputs": [],
   "source": [
    "import redis"
   ]
  },
  {
   "cell_type": "code",
   "execution_count": 2,
   "id": "d3ea58cc",
   "metadata": {},
   "outputs": [],
   "source": [
    "# Redis connection\n",
    "redis_cache = redis.StrictRedis(host='localhost', port=6379, db=0, decode_responses=True)"
   ]
  },
  {
   "cell_type": "code",
   "execution_count": 3,
   "id": "c111795c",
   "metadata": {},
   "outputs": [
    {
     "data": {
      "text/plain": [
       "<redis.client.Redis(<redis.connection.ConnectionPool(<redis.connection.Connection(host=localhost,port=6379,db=0)>)>)>"
      ]
     },
     "execution_count": 3,
     "metadata": {},
     "output_type": "execute_result"
    }
   ],
   "source": [
    "redis_cache"
   ]
  },
  {
   "cell_type": "markdown",
   "id": "35bc7b65",
   "metadata": {},
   "source": [
    "DATABASE INDEX:"
   ]
  },
  {
   "cell_type": "code",
   "execution_count": null,
   "id": "329c65cd",
   "metadata": {
    "vscode": {
     "languageId": "sql"
    }
   },
   "outputs": [],
   "source": [
    "CREATE TABLE employees(\n",
    "    id INT PRIMARY KEY,\n",
    "    first_name VARCHAR(50),\n",
    "    last_name VARCHAR(50),\n",
    "    email VARCHAR(100),\n",
    "    department VARCHAR(50),\n",
    "    salary DECIMAL(20)\n",
    "    \n",
    ");"
   ]
  },
  {
   "cell_type": "code",
   "execution_count": null,
   "id": "c19724fd",
   "metadata": {
    "vscode": {
     "languageId": "sql"
    }
   },
   "outputs": [],
   "source": [
    "CREATE INDEX idx_last_name ON employees (last_name);"
   ]
  },
  {
   "cell_type": "code",
   "execution_count": null,
   "id": "45e2acf1",
   "metadata": {
    "vscode": {
     "languageId": "sql"
    }
   },
   "outputs": [],
   "source": [
    "SELECT * FROM employees WHERE last_name = 'Smith';"
   ]
  },
  {
   "cell_type": "code",
   "execution_count": null,
   "id": "84c5a2f9",
   "metadata": {
    "vscode": {
     "languageId": "sql"
    }
   },
   "outputs": [],
   "source": [
    "CREATE INDEX idx_full_name ON employees (first_name, last_name);"
   ]
  },
  {
   "cell_type": "code",
   "execution_count": null,
   "id": "99be6cd3",
   "metadata": {
    "vscode": {
     "languageId": "sql"
    }
   },
   "outputs": [],
   "source": [
    "CREATE TABLE users (\n",
    "    user_id SERIAL PRIMARY KEY,\n",
    "    name VARCHAR(100) NOT NULL,\n",
    "    email VARCHAR(100) UNIQUE NOT NULL,\n",
    "    last_login TIMESTAMP,\n",
    "    status VARCHAR(20) DEFAULT 'active'\n",
    ");"
   ]
  },
  {
   "cell_type": "markdown",
   "id": "090c06a7",
   "metadata": {},
   "source": [
    "without index sql looking for every row"
   ]
  },
  {
   "cell_type": "code",
   "execution_count": null,
   "id": "8a2b8332",
   "metadata": {
    "vscode": {
     "languageId": "sql"
    }
   },
   "outputs": [],
   "source": [
    "INSERT INTO users (name, email, last_login, status) VALUES\n",
    "('Alice', 'alice@example.com', '2025-04-10 10:00:00', 'active'),\n",
    "('Bob', 'bob@example.com', '2025-04-12 15:30:00', 'active'),\n",
    "('Charlie', 'charlie@example.com', '2025-04-11 09:20:00', 'inactive'),\n",
    "('David', 'david@example.com', '2025-04-13 12:45:00', 'active'),\n",
    "('Eve', 'eve@example.com', '2025-04-09 08:15:00', 'active');"
   ]
  },
  {
   "cell_type": "code",
   "execution_count": null,
   "id": "a8b73387",
   "metadata": {
    "vscode": {
     "languageId": "sql"
    }
   },
   "outputs": [],
   "source": [
    "SELECT * FROM users WHERE email = 'alice@example.com';"
   ]
  },
  {
   "cell_type": "code",
   "execution_count": null,
   "id": "42236c84",
   "metadata": {
    "vscode": {
     "languageId": "sql"
    }
   },
   "outputs": [],
   "source": [
    "SELECT * FROM users WHERE status = 'active' AND last_login >= '2025-04-12 00:00:00' ORDER BY last_login DESC;"
   ]
  },
  {
   "cell_type": "markdown",
   "id": "a72a6b19",
   "metadata": {},
   "source": [
    "with index"
   ]
  },
  {
   "cell_type": "code",
   "execution_count": null,
   "id": "d31835cd",
   "metadata": {
    "vscode": {
     "languageId": "sql"
    }
   },
   "outputs": [],
   "source": [
    "-- Index on email for fast lookups\n",
    "CREATE INDEX idx_users_email ON users (email);\n",
    "\n",
    "-- Composite index on status and last_login for activity queries\n",
    "CREATE INDEX idx_users_status_last_login ON users (status, last_login);"
   ]
  },
  {
   "cell_type": "markdown",
   "id": "382d9c09",
   "metadata": {},
   "source": [
    "idx_users_email: B-tree index on email for exact match queries.\n",
    "idx_users_status_last_login: Composite index supporting filtering by status and sorting by last_login."
   ]
  },
  {
   "cell_type": "code",
   "execution_count": null,
   "id": "39a239b7",
   "metadata": {
    "vscode": {
     "languageId": "sql"
    }
   },
   "outputs": [],
   "source": [
    "SELECT indexname, indexdef FROM pg_indexes WHERE tablename = 'users';"
   ]
  },
  {
   "cell_type": "code",
   "execution_count": null,
   "id": "743a7f3a",
   "metadata": {
    "vscode": {
     "languageId": "sql"
    }
   },
   "outputs": [],
   "source": [
    "CREATE DATABASE index_demo;\n",
    "\n",
    "USE index_demo;\n",
    "\n",
    "CREATE TABLE users (\n",
    "    id INT AUTO_INCREMENT PRIMARY KEY,\n",
    "    name VARCHAR(100),\n",
    "    email VARCHAR(100),\n",
    "    age INT,\n",
    "    INDEX idx_email (email)   -- Create index on email\n",
    ");\n"
   ]
  }
 ],
 "metadata": {
  "kernelspec": {
   "display_name": "Python 3",
   "language": "python",
   "name": "python3"
  },
  "language_info": {
   "codemirror_mode": {
    "name": "ipython",
    "version": 3
   },
   "file_extension": ".py",
   "mimetype": "text/x-python",
   "name": "python",
   "nbconvert_exporter": "python",
   "pygments_lexer": "ipython3",
   "version": "3.12.0"
  }
 },
 "nbformat": 4,
 "nbformat_minor": 5
}
