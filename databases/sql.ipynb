{
 "cells": [
  {
   "cell_type": "markdown",
   "id": "e7e40955",
   "metadata": {},
   "source": [
    "SQL databases store data in tables with a strict predened schema and follow the\n",
    "ACID properties.\n",
    "\n",
    "Atomicity - A transaction is all-or-nothing (it either completes fully or not at\n",
    "\n",
    "Consistency – Data always remains valid and follows dened rules.\n",
    "\n",
    "Isolation – Transactions don’t interfere with each other.\n",
    "\n",
    "\n",
    "Durability – Once data is saved, it won’t be lost, even if the system crashes.\n"
   ]
  },
  {
   "cell_type": "code",
   "execution_count": 1,
   "id": "68a6f20b",
   "metadata": {},
   "outputs": [],
   "source": [
    "import redis"
   ]
  },
  {
   "cell_type": "code",
   "execution_count": 2,
   "id": "d3ea58cc",
   "metadata": {},
   "outputs": [],
   "source": [
    "# Redis connection\n",
    "redis_cache = redis.StrictRedis(host='localhost', port=6379, db=0, decode_responses=True)"
   ]
  },
  {
   "cell_type": "code",
   "execution_count": 3,
   "id": "c111795c",
   "metadata": {},
   "outputs": [
    {
     "data": {
      "text/plain": [
       "<redis.client.Redis(<redis.connection.ConnectionPool(<redis.connection.Connection(host=localhost,port=6379,db=0)>)>)>"
      ]
     },
     "execution_count": 3,
     "metadata": {},
     "output_type": "execute_result"
    }
   ],
   "source": [
    "redis_cache"
   ]
  },
  {
   "cell_type": "code",
   "execution_count": null,
   "id": "35bc7b65",
   "metadata": {},
   "outputs": [],
   "source": []
  }
 ],
 "metadata": {
  "kernelspec": {
   "display_name": "Python 3",
   "language": "python",
   "name": "python3"
  },
  "language_info": {
   "codemirror_mode": {
    "name": "ipython",
    "version": 3
   },
   "file_extension": ".py",
   "mimetype": "text/x-python",
   "name": "python",
   "nbconvert_exporter": "python",
   "pygments_lexer": "ipython3",
   "version": "3.12.0"
  }
 },
 "nbformat": 4,
 "nbformat_minor": 5
}
