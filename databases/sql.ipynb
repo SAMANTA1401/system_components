{
 "cells": [
  {
   "cell_type": "markdown",
   "id": "e7e40955",
   "metadata": {},
   "source": [
    "SQL databases store data in tables with a strict predened schema and follow the\n",
    "ACID properties.\n",
    "\n",
    "Atomicity - A transaction is all-or-nothing (it either completes fully or not at\n",
    "\n",
    "Consistency – Data always remains valid and follows dened rules.\n",
    "\n",
    "Isolation – Transactions don’t interfere with each other.\n",
    "\n",
    "\n",
    "Durability – Once data is saved, it won’t be lost, even if the system crashes.\n"
   ]
  },
  {
   "cell_type": "code",
   "execution_count": 1,
   "id": "68a6f20b",
   "metadata": {},
   "outputs": [],
   "source": [
    "import redis"
   ]
  },
  {
   "cell_type": "code",
   "execution_count": 2,
   "id": "d3ea58cc",
   "metadata": {},
   "outputs": [],
   "source": [
    "# Redis connection\n",
    "redis_cache = redis.StrictRedis(host='localhost', port=6379, db=0, decode_responses=True)"
   ]
  },
  {
   "cell_type": "code",
   "execution_count": 3,
   "id": "c111795c",
   "metadata": {},
   "outputs": [
    {
     "data": {
      "text/plain": [
       "<redis.client.Redis(<redis.connection.ConnectionPool(<redis.connection.Connection(host=localhost,port=6379,db=0)>)>)>"
      ]
     },
     "execution_count": 3,
     "metadata": {},
     "output_type": "execute_result"
    }
   ],
   "source": [
    "redis_cache"
   ]
  },
  {
   "cell_type": "markdown",
   "id": "35bc7b65",
   "metadata": {},
   "source": [
    "DATABASE INDEX:"
   ]
  },
  {
   "cell_type": "code",
   "execution_count": null,
   "id": "329c65cd",
   "metadata": {
    "vscode": {
     "languageId": "sql"
    }
   },
   "outputs": [],
   "source": [
    "CREATE TABLE employees(\n",
    "    id INT PRIMARY KEY,\n",
    "    first_name VARCHAR(50),\n",
    "    last_name VARCHAR(50),\n",
    "    email VARCHAR(100),\n",
    "    department VARCHAR(50),\n",
    "    salary DECIMAL(20)\n",
    "    \n",
    ");"
   ]
  },
  {
   "cell_type": "code",
   "execution_count": null,
   "id": "c19724fd",
   "metadata": {
    "vscode": {
     "languageId": "sql"
    }
   },
   "outputs": [],
   "source": [
    "CREATE INDEX idx_last_name ON employees (last_name);"
   ]
  },
  {
   "cell_type": "code",
   "execution_count": null,
   "id": "45e2acf1",
   "metadata": {
    "vscode": {
     "languageId": "sql"
    }
   },
   "outputs": [],
   "source": [
    "SELECT * FROM employees WHERE last_name = 'Smith';"
   ]
  },
  {
   "cell_type": "code",
   "execution_count": null,
   "id": "84c5a2f9",
   "metadata": {
    "vscode": {
     "languageId": "sql"
    }
   },
   "outputs": [],
   "source": [
    "CREATE INDEX idx_full_name ON employees (first_name, last_name);"
   ]
  },
  {
   "cell_type": "code",
   "execution_count": null,
   "id": "99be6cd3",
   "metadata": {
    "vscode": {
     "languageId": "sql"
    }
   },
   "outputs": [],
   "source": [
    "CREATE TABLE users (\n",
    "    user_id SERIAL PRIMARY KEY,\n",
    "    name VARCHAR(100) NOT NULL,\n",
    "    email VARCHAR(100) UNIQUE NOT NULL,\n",
    "    last_login TIMESTAMP,\n",
    "    status VARCHAR(20) DEFAULT 'active'\n",
    ");"
   ]
  },
  {
   "cell_type": "markdown",
   "id": "090c06a7",
   "metadata": {},
   "source": [
    "without index sql looking for every row"
   ]
  },
  {
   "cell_type": "code",
   "execution_count": null,
   "id": "8a2b8332",
   "metadata": {
    "vscode": {
     "languageId": "sql"
    }
   },
   "outputs": [],
   "source": [
    "INSERT INTO users (name, email, last_login, status) VALUES\n",
    "('Alice', 'alice@example.com', '2025-04-10 10:00:00', 'active'),\n",
    "('Bob', 'bob@example.com', '2025-04-12 15:30:00', 'active'),\n",
    "('Charlie', 'charlie@example.com', '2025-04-11 09:20:00', 'inactive'),\n",
    "('David', 'david@example.com', '2025-04-13 12:45:00', 'active'),\n",
    "('Eve', 'eve@example.com', '2025-04-09 08:15:00', 'active');"
   ]
  },
  {
   "cell_type": "code",
   "execution_count": null,
   "id": "a8b73387",
   "metadata": {
    "vscode": {
     "languageId": "sql"
    }
   },
   "outputs": [],
   "source": [
    "SELECT * FROM users WHERE email = 'alice@example.com';"
   ]
  },
  {
   "cell_type": "code",
   "execution_count": null,
   "id": "42236c84",
   "metadata": {
    "vscode": {
     "languageId": "sql"
    }
   },
   "outputs": [],
   "source": [
    "SELECT * FROM users WHERE status = 'active' AND last_login >= '2025-04-12 00:00:00' ORDER BY last_login DESC;"
   ]
  },
  {
   "cell_type": "markdown",
   "id": "a72a6b19",
   "metadata": {},
   "source": [
    "with index"
   ]
  },
  {
   "cell_type": "code",
   "execution_count": null,
   "id": "d31835cd",
   "metadata": {
    "vscode": {
     "languageId": "sql"
    }
   },
   "outputs": [],
   "source": [
    "-- Index on email for fast lookups\n",
    "CREATE INDEX idx_users_email ON users (email);\n",
    "\n",
    "-- Composite index on status and last_login for activity queries\n",
    "CREATE INDEX idx_users_status_last_login ON users (status, last_login);"
   ]
  },
  {
   "cell_type": "markdown",
   "id": "382d9c09",
   "metadata": {},
   "source": [
    "idx_users_email: B-tree index on email for exact match queries.\n",
    "idx_users_status_last_login: Composite index supporting filtering by status and sorting by last_login."
   ]
  },
  {
   "cell_type": "code",
   "execution_count": null,
   "id": "39a239b7",
   "metadata": {
    "vscode": {
     "languageId": "sql"
    }
   },
   "outputs": [],
   "source": [
    "SELECT indexname, indexdef FROM pg_indexes WHERE tablename = 'users';"
   ]
  },
  {
   "cell_type": "code",
   "execution_count": null,
   "id": "743a7f3a",
   "metadata": {
    "vscode": {
     "languageId": "sql"
    }
   },
   "outputs": [],
   "source": [
    "CREATE DATABASE index_demo;\n",
    "\n",
    "USE index_demo;\n",
    "\n",
    "CREATE TABLE users (\n",
    "    id INT AUTO_INCREMENT PRIMARY KEY,\n",
    "    name VARCHAR(100),\n",
    "    email VARCHAR(100),\n",
    "    age INT,\n",
    "    INDEX idx_email (email)   -- Create index on email\n",
    ");\n"
   ]
  },
  {
   "cell_type": "markdown",
   "id": "eaa996bf",
   "metadata": {},
   "source": [
    "REPLICATION"
   ]
  },
  {
   "cell_type": "markdown",
   "id": "5b802191",
   "metadata": {},
   "source": [
    "MySQL Master-Slave Replication (Manual)\n",
    "✅ 1.1 Configure Master (MySQL on port 3306)"
   ]
  },
  {
   "cell_type": "code",
   "execution_count": null,
   "id": "55cbed5b",
   "metadata": {
    "vscode": {
     "languageId": "sql"
    }
   },
   "outputs": [],
   "source": [
    "CREATE USER 'replica'@'%' IDENTIFIED BY 'replica_pass';\n",
    "GRANT REPLICATION SLAVE ON *.* TO 'replica'@'%';\n",
    "FLUSH PRIVILEGES;\n",
    "\n",
    "USE index_demo;\n",
    "FLUSH TABLES WITH READ LOCK;\n",
    "SHOW MASTER STATUS;\n"
   ]
  },
  {
   "cell_type": "markdown",
   "id": "f3412841",
   "metadata": {},
   "source": [
    "file and position"
   ]
  },
  {
   "cell_type": "markdown",
   "id": "40355cd5",
   "metadata": {},
   "source": [
    "SAMANTA-140197S-bin.000365\t15792\t"
   ]
  },
  {
   "cell_type": "markdown",
   "id": "ce85daad",
   "metadata": {},
   "source": [
    "Configure Replica (MySQL on port 3307)"
   ]
  },
  {
   "cell_type": "code",
   "execution_count": null,
   "id": "49ec3c60",
   "metadata": {
    "vscode": {
     "languageId": "sql"
    }
   },
   "outputs": [],
   "source": [
    "STOP SLAVE;\n",
    "\n",
    "CHANGE MASTER TO\n",
    "  MASTER_HOST='127.0.0.1',\n",
    "  MASTER_PORT=3306,\n",
    "  MASTER_USER='replica',\n",
    "  MASTER_PASSWORD='replica_pass',\n",
    "  MASTER_LOG_FILE='master-bin.000001',\n",
    "  MASTER_LOG_POS=154;\n",
    "\n",
    "START SLAVE;\n",
    "\n",
    "SHOW SLAVE STATUS;\n"
   ]
  },
  {
   "cell_type": "markdown",
   "id": "cbf2f6bc",
   "metadata": {},
   "source": [
    "\t127.0.0.1\treplica\t3306\t60\tSAMANTA-140197S-bin.000001\t154\tSAMANTA-140197S-relay-bin.000001\t4\tSAMANTA-140197S-bin.000001\tNo\tYes\t\t\t\t\t\t\t0\t\t0\t154\t157\tNone\t\t0\tNo\t\t\t\t\t\t\tNo\t13117\tFatal error: The replica I/O thread stops because source and replica have equal MySQL server ids; these ids must be different for replication to work (or the --replicate-same-server-id option must be used on replica but this does not always make sense; p...\t0\t\t\t1\t\tmysql.slave_master_info\t0\t\tReplica has read all relay log; waiting for more updates\t86400\t\t250414 16:28:09\t\t\t\t\t\t0\t\t\t\t\t0\t"
   ]
  },
  {
   "cell_type": "markdown",
   "id": "ee4915a6",
   "metadata": {},
   "source": [
    "delete replica"
   ]
  },
  {
   "cell_type": "code",
   "execution_count": null,
   "id": "1bfd1496",
   "metadata": {
    "vscode": {
     "languageId": "sql"
    }
   },
   "outputs": [],
   "source": [
    "STOP SLAVE;\n",
    "RESET SLAVE ALL;\n",
    "DROP USER 'replica'@'%';\n",
    "FLUSH PRIVILEGES;\n"
   ]
  },
  {
   "cell_type": "markdown",
   "id": "580efe43",
   "metadata": {},
   "source": [
    " Assign Unique server-id Values\n",
    "🔧 Step 1: Edit MySQL Config Files\n",
    "On Master (port 3306):"
   ]
  },
  {
   "cell_type": "markdown",
   "id": "b6108a86",
   "metadata": {},
   "source": [
    "ini"
   ]
  },
  {
   "cell_type": "code",
   "execution_count": null,
   "metadata": {
    "vscode": {
     "languageId": "sql"
    }
   },
   "outputs": [],
   "source": [
    " Assign Unique server-id Values\n",
    "🔧 Step 1: Edit MySQL Config Files\n",
    "On Master (port 3306):"
   ]
  },
  {
   "cell_type": "code",
   "execution_count": null,
   "id": "b4c3f881",
   "metadata": {
    "vscode": {
     "languageId": "sql"
    }
   },
   "outputs": [],
   "source": [
    "[mysqld]\n",
    "server-id=1\n",
    "log-bin=mysql-bin\n"
   ]
  },
  {
   "cell_type": "markdown",
   "id": "4da421cb",
   "metadata": {},
   "source": [
    "Replica (port 3307):"
   ]
  },
  {
   "cell_type": "markdown",
   "id": "76e7aa3e",
   "metadata": {},
   "source": [
    "ini"
   ]
  },
  {
   "cell_type": "code",
   "execution_count": null,
   "id": "381fde0f",
   "metadata": {
    "vscode": {
     "languageId": "sql"
    }
   },
   "outputs": [],
   "source": [
    "[mysqld]\n",
    "server-id=2\n",
    "relay-log=relay-log\n",
    "read-only=1\n"
   ]
  },
  {
   "cell_type": "markdown",
   "id": "35b796be",
   "metadata": {},
   "source": [
    "vertical partitioning"
   ]
  },
  {
   "cell_type": "code",
   "execution_count": null,
   "id": "80ded695",
   "metadata": {
    "vscode": {
     "languageId": "sql"
    }
   },
   "outputs": [],
   "source": [
    "CREATE DATABASE IF NOT EXISTS userdb;\n",
    "USE userdb;\n",
    "\n",
    "-- Base table before partitioning\n",
    "CREATE TABLE users (\n",
    "    id INT PRIMARY KEY AUTO_INCREMENT,\n",
    "    username VARCHAR(50),\n",
    "    email VARCHAR(100),\n",
    "    password VARCHAR(255),\n",
    "    bio TEXT,\n",
    "    profile_picture TEXT,\n",
    "    last_login DATETIME\n",
    ");\n",
    "\n",
    "-- Insert dummy data\n",
    "INSERT INTO users (username, email, password, bio, profile_picture, last_login)\n",
    "VALUES \n",
    "('alice', 'alice@example.com', 'pass123', 'Loves coding', '/images/alice.jpg', NOW()),\n",
    "('bob', 'bob@example.com', 'secure456', 'DevOps fan', '/images/bob.jpg', NOW());\n"
   ]
  },
  {
   "cell_type": "code",
   "execution_count": null,
   "id": "4d3520d7",
   "metadata": {
    "vscode": {
     "languageId": "sql"
    }
   },
   "outputs": [],
   "source": [
    "CREATE TABLE user_basic (\n",
    "    id INT PRIMARY KEY,\n",
    "    username VARCHAR(50),\n",
    "    email VARCHAR(100),\n",
    "    password VARCHAR(255)\n",
    ");\n",
    "\n",
    "CREATE TABLE user_profile (\n",
    "    user_id INT PRIMARY KEY,\n",
    "    bio TEXT,\n",
    "    profile_picture TEXT,\n",
    "    last_login DATETIME,\n",
    "    FOREIGN KEY (user_id) REFERENCES user_basic(id)\n",
    ");\n",
    "\n",
    "-- Migrate existing data\n",
    "INSERT INTO user_basic (id, username, email, password) SELECT id, username, email, password FROM users;\n",
    "\n",
    "INSERT INTO user_profile (user_id, bio, profile_picture, last_login) SELECT id, bio, profile_picture, last_login FROM users;\n",
    "\n",
    "-- Optional: Drop original table\n",
    "DROP TABLE users;\n"
   ]
  }
 ],
 "metadata": {
  "kernelspec": {
   "display_name": "Python 3",
   "language": "python",
   "name": "python3"
  },
  "language_info": {
   "codemirror_mode": {
    "name": "ipython",
    "version": 3
   },
   "file_extension": ".py",
   "mimetype": "text/x-python",
   "name": "python",
   "nbconvert_exporter": "python",
   "pygments_lexer": "ipython3",
   "version": "3.12.0"
  }
 },
 "nbformat": 4,
 "nbformat_minor": 5
}
