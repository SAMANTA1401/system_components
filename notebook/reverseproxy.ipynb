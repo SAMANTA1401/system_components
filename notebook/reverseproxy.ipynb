{
 "cells": [
  {
   "cell_type": "markdown",
   "id": "ff7323f3",
   "metadata": {},
   "source": [
    "Reverse Proxy with Nginx"
   ]
  },
  {
   "cell_type": "markdown",
   "id": "cc8a97cb",
   "metadata": {},
   "source": [
    "Install Nginx"
   ]
  },
  {
   "cell_type": "code",
   "execution_count": null,
   "id": "bba91432",
   "metadata": {},
   "outputs": [],
   "source": [
    "# sudo apt update sudo apt install nginx"
   ]
  },
  {
   "cell_type": "markdown",
   "id": "d8f8b542",
   "metadata": {},
   "source": [
    "Add Reverse Proxy Configuration"
   ]
  },
  {
   "cell_type": "code",
   "execution_count": null,
   "id": "a5f9b8ea",
   "metadata": {},
   "outputs": [],
   "source": [
    "server {\n",
    "    listen 80;\n",
    "\n",
    "    location / {\n",
    "        proxy_pass http://backend_server_ip;\n",
    "        proxy_set_header Host $host;\n",
    "        proxy_set_header X-Real-IP $remote_addr;\n",
    "        proxy_set_header X-Forwarded-For $proxy_add_x_forwarded_for;\n",
    "    }\n",
    "}"
   ]
  },
  {
   "cell_type": "markdown",
   "id": "67e20711",
   "metadata": {},
   "source": [
    "Test and Reload Nginx"
   ]
  },
  {
   "cell_type": "code",
   "execution_count": null,
   "id": "a6586dbe",
   "metadata": {},
   "outputs": [],
   "source": [
    "# sudo nginx -t sudo systemctl reload nginx"
   ]
  },
  {
   "cell_type": "markdown",
   "id": "3fe9831e",
   "metadata": {},
   "source": [
    "Load Balancing Across Multiple Servers"
   ]
  },
  {
   "cell_type": "markdown",
   "metadata": {},
   "source": [
    "For a high-traffic website, spreading incoming requests across multiple backend servers is crucial.\n",
    "\n",
    "A reverse proxy can implement load balancing algorithms such as round-robin, least connections, or IP hash, ensuring optimal distribution of traffic."
   ]
  },
  {
   "cell_type": "code",
   "execution_count": 1,
   "id": "60561320",
   "metadata": {
    "vscode": {
     "languageId": "javascript"
    }
   },
   "outputs": [
    {
     "ename": "SyntaxError",
     "evalue": "invalid syntax (432762706.py, line 1)",
     "output_type": "error",
     "traceback": [
      "  \u001b[36mCell\u001b[39m\u001b[36m \u001b[39m\u001b[32mIn[1]\u001b[39m\u001b[32m, line 1\u001b[39m\n\u001b[31m    \u001b[39m\u001b[31mupstream backend_servers {\u001b[39m\n             ^\n\u001b[31mSyntaxError\u001b[39m\u001b[31m:\u001b[39m invalid syntax\n"
     ]
    }
   ],
   "source": [
    "upstream backend_servers {\n",
    "    ip_hash;\n",
    "    server backend1.example.com;\n",
    "    server backend2.example.com;\n",
    "    server backend3.example.com;\n",
    "}\n",
    "\n",
    "server {\n",
    "    listen 80;\n",
    "    server_name example.com;\n",
    "\n",
    "    location / {\n",
    "        proxy_pass http://backend_servers;\n",
    "        proxy_set_header Host $host;\n",
    "        proxy_set_header X-Real-IP $remote_addr;\n",
    "        proxy_set_header X-Forwarded-For $proxy_add_x_forwarded_for;\n",
    "    }\n",
    "}"
   ]
  },
  {
   "cell_type": "code",
   "execution_count": null,
   "id": "cdca6226",
   "metadata": {
    "vscode": {
     "languageId": "javascript"
    }
   },
   "outputs": [],
   "source": [
    "upstream backend_servers {\n",
    "    ip_hash;\n",
    "    server 127.0.0.1:5001;\n",
    "    server 127.0.0.1:5002;\n",
    "    server 127.0.0.1:5003;\n",
    "}\n",
    "\n",
    "server {\n",
    "    listen 80;\n",
    "    server_name example.com localhost; # Added localhost for local testing\n",
    "\n",
    "    location / {\n",
    "        proxy_pass http://backend_servers;\n",
    "        proxy_set_header Host $host;\n",
    "        proxy_set_header X-Real-IP $remote_addr;\n",
    "        proxy_set_header X-Forwarded-For $proxy_add_x_forwarded_for;\n",
    "    }\n",
    "}"
   ]
  },
  {
   "cell_type": "code",
   "execution_count": 2,
   "id": "5ebce249",
   "metadata": {
    "vscode": {
     "languageId": "javascript"
    }
   },
   "outputs": [
    {
     "ename": "SyntaxError",
     "evalue": "unterminated string literal (detected at line 8) (852740458.py, line 8)",
     "output_type": "error",
     "traceback": [
      "  \u001b[36mCell\u001b[39m\u001b[36m \u001b[39m\u001b[32mIn[2]\u001b[39m\u001b[32m, line 8\u001b[39m\n\u001b[31m    \u001b[39m\u001b[31m// server_name example.com localhost;: Defines the domain names for which this server block will be used. We've added localhost for easier local testing.\u001b[39m\n                                                                                                                ^\n\u001b[31mSyntaxError\u001b[39m\u001b[31m:\u001b[39m unterminated string literal (detected at line 8)\n"
     ]
    }
   ],
   "source": [
    "// upstream backend_servers { ... }: Defines a group of backend servers that Nginx will load balance across.\n",
    "// ip_hash;: Specifies the load balancing method. ip_hash ensures that requests from the same client IP address are always sent to the same backend server.\n",
    "// server 127.0.0.1:5001;: Defines the address and port of the first backend server.\n",
    "// server 127.0.0.1:5002;: Defines the address and port of the second backend server.\n",
    "// server 127.0.0.1:5003;: Defines the address and port of the third backend server.\n",
    "// server { ... }: Defines a virtual server that listens on port 80.\n",
    "// listen 80;: Specifies the port Nginx will listen on for incoming requests.\n",
    "// server_name example.com localhost;: Defines the domain names for which this server block will be used. We've added localhost for easier local testing.\n",
    "// location / { ... }: Defines how requests to the root path (/) will be handled.\n",
    "// proxy_pass http://backend_servers;: Directs requests to the backend_servers upstream group. Nginx will choose one of the backend servers based on the ip_hash policy.\n",
    "// proxy_set_header Host $host;: Passes the original Host header from the client request to the backend.\n",
    "// proxy_set_header X-Real-IP $remote_addr;: Passes the client's real IP address to the backend.\n",
    "// proxy_set_header X-Forwarded-For $proxy_add_x_forwarded_for;: Passes a list of IP addresses the request has gone through, which can be useful for tracking the client's IP through proxies."
   ]
  },
  {
   "cell_type": "code",
   "execution_count": null,
   "id": "e30ee5e0",
   "metadata": {
    "vscode": {
     "languageId": "javascript"
    }
   },
   "outputs": [],
   "source": [
    "upstream backend_servers {\n",
    "    ip_hash;\n",
    "    server 127.0.0.1:5001;\n",
    "    server 127.0.0.1:5002;\n",
    "    server 127.0.0.1:5003;\n",
    "}\n",
    "\n",
    "server {\n",
    "    listen 80;\n",
    "    server_name example.com;\n",
    "\n",
    "    location / {\n",
    "        root /frontend; # Serve static files from the frontend directory\n",
    "        index index.html;\n",
    "        try_files $uri $uri/ /index.html; # For SPA routing if needed\n",
    "    }\n",
    "\n",
    "    location /greet {\n",
    "        proxy_pass http://backend_servers/greet; # Proxy /greet requests to the backend\n",
    "        proxy_set_header Host $host;\n",
    "        proxy_set_header X-Real-IP $remote_addr;\n",
    "        proxy_set_header X-Forwarded-For $proxy_add_x_forwarded_for;\n",
    "    }\n",
    "}"
   ]
  },
  {
   "cell_type": "code",
   "execution_count": null,
   "id": "ea00880b",
   "metadata": {
    "vscode": {
     "languageId": "javascript"
    }
   },
   "outputs": [],
   "source": [
    "// Serving Static Files: The root location / block is now configured to serve static files from the /path/to/load_balancer_api/frontend directory. You need to replace /path/to/load_balancer_api with the actual absolute path to your load_balancer_api directory.\n",
    "// root /path/to/load_balancer_api/frontend;: Sets the root directory for serving static files.\n",
    "// index index.html;: Specifies the default file to serve if a directory is requested.\n",
    "// try_files $uri $uri/ /index.html;: This is often used for Single Page Applications (SPAs) to ensure that client-side routing works correctly.\n",
    "// Proxying /greet: A new location /greet block is added to specifically proxy requests to the /greet endpoint of the backend servers. We also append /greet to the proxy_pass URL to ensure the backend receives the correct path."
   ]
  },
  {
   "cell_type": "markdown",
   "id": "3ee85319",
   "metadata": {},
   "source": []
  }
 ],
 "metadata": {
  "kernelspec": {
   "display_name": "Python 3",
   "language": "python",
   "name": "python3"
  },
  "language_info": {
   "codemirror_mode": {
    "name": "ipython",
    "version": 3
   },
   "file_extension": ".py",
   "mimetype": "text/x-python",
   "name": "python",
   "nbconvert_exporter": "python",
   "pygments_lexer": "ipython3",
   "version": "3.12.0"
  }
 },
 "nbformat": 4,
 "nbformat_minor": 5
}
